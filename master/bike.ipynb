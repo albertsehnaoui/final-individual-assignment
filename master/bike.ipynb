{
 "cells": [
  {
   "cell_type": "code",
   "execution_count": 1,
   "metadata": {},
   "outputs": [],
   "source": [
    "import pandas as pd\n",
    "import joblib as joblib"
   ]
  },
  {
   "cell_type": "code",
   "execution_count": 2,
   "metadata": {},
   "outputs": [
    {
     "data": {
      "text/html": [
       "<div>\n",
       "<style scoped>\n",
       "    .dataframe tbody tr th:only-of-type {\n",
       "        vertical-align: middle;\n",
       "    }\n",
       "\n",
       "    .dataframe tbody tr th {\n",
       "        vertical-align: top;\n",
       "    }\n",
       "\n",
       "    .dataframe thead th {\n",
       "        text-align: right;\n",
       "    }\n",
       "</style>\n",
       "<table border=\"1\" class=\"dataframe\">\n",
       "  <thead>\n",
       "    <tr style=\"text-align: right;\">\n",
       "      <th></th>\n",
       "      <th>instant</th>\n",
       "      <th>dteday</th>\n",
       "      <th>hr</th>\n",
       "      <th>weathersit</th>\n",
       "      <th>temp</th>\n",
       "      <th>atemp</th>\n",
       "      <th>hum</th>\n",
       "      <th>windspeed</th>\n",
       "      <th>casual</th>\n",
       "      <th>registered</th>\n",
       "      <th>cnt</th>\n",
       "    </tr>\n",
       "  </thead>\n",
       "  <tbody>\n",
       "    <tr>\n",
       "      <th>0</th>\n",
       "      <td>1</td>\n",
       "      <td>2011-01-01</td>\n",
       "      <td>0</td>\n",
       "      <td>Clear, Few clouds, Partly cloudy, Partly cloudy</td>\n",
       "      <td>0.24</td>\n",
       "      <td>0.2879</td>\n",
       "      <td>0.81</td>\n",
       "      <td>0.0</td>\n",
       "      <td>3</td>\n",
       "      <td>13</td>\n",
       "      <td>16</td>\n",
       "    </tr>\n",
       "    <tr>\n",
       "      <th>1</th>\n",
       "      <td>2</td>\n",
       "      <td>2011-01-01</td>\n",
       "      <td>1</td>\n",
       "      <td>Clear, Few clouds, Partly cloudy, Partly cloudy</td>\n",
       "      <td>0.22</td>\n",
       "      <td>0.2727</td>\n",
       "      <td>0.80</td>\n",
       "      <td>0.0</td>\n",
       "      <td>8</td>\n",
       "      <td>32</td>\n",
       "      <td>40</td>\n",
       "    </tr>\n",
       "    <tr>\n",
       "      <th>2</th>\n",
       "      <td>3</td>\n",
       "      <td>2011-01-01</td>\n",
       "      <td>2</td>\n",
       "      <td>Clear, Few clouds, Partly cloudy, Partly cloudy</td>\n",
       "      <td>0.22</td>\n",
       "      <td>0.2727</td>\n",
       "      <td>0.80</td>\n",
       "      <td>0.0</td>\n",
       "      <td>5</td>\n",
       "      <td>27</td>\n",
       "      <td>32</td>\n",
       "    </tr>\n",
       "    <tr>\n",
       "      <th>3</th>\n",
       "      <td>4</td>\n",
       "      <td>2011-01-01</td>\n",
       "      <td>3</td>\n",
       "      <td>Clear, Few clouds, Partly cloudy, Partly cloudy</td>\n",
       "      <td>0.24</td>\n",
       "      <td>0.2879</td>\n",
       "      <td>0.75</td>\n",
       "      <td>0.0</td>\n",
       "      <td>3</td>\n",
       "      <td>10</td>\n",
       "      <td>13</td>\n",
       "    </tr>\n",
       "    <tr>\n",
       "      <th>4</th>\n",
       "      <td>5</td>\n",
       "      <td>2011-01-01</td>\n",
       "      <td>4</td>\n",
       "      <td>Clear, Few clouds, Partly cloudy, Partly cloudy</td>\n",
       "      <td>0.24</td>\n",
       "      <td>0.2879</td>\n",
       "      <td>0.75</td>\n",
       "      <td>0.0</td>\n",
       "      <td>0</td>\n",
       "      <td>1</td>\n",
       "      <td>1</td>\n",
       "    </tr>\n",
       "  </tbody>\n",
       "</table>\n",
       "</div>"
      ],
      "text/plain": [
       "   instant     dteday  hr                                       weathersit  \\\n",
       "0        1 2011-01-01   0  Clear, Few clouds, Partly cloudy, Partly cloudy   \n",
       "1        2 2011-01-01   1  Clear, Few clouds, Partly cloudy, Partly cloudy   \n",
       "2        3 2011-01-01   2  Clear, Few clouds, Partly cloudy, Partly cloudy   \n",
       "3        4 2011-01-01   3  Clear, Few clouds, Partly cloudy, Partly cloudy   \n",
       "4        5 2011-01-01   4  Clear, Few clouds, Partly cloudy, Partly cloudy   \n",
       "\n",
       "   temp   atemp   hum  windspeed  casual  registered  cnt  \n",
       "0  0.24  0.2879  0.81        0.0       3          13   16  \n",
       "1  0.22  0.2727  0.80        0.0       8          32   40  \n",
       "2  0.22  0.2727  0.80        0.0       5          27   32  \n",
       "3  0.24  0.2879  0.75        0.0       3          10   13  \n",
       "4  0.24  0.2879  0.75        0.0       0           1    1  "
      ]
     },
     "execution_count": 2,
     "metadata": {},
     "output_type": "execute_result"
    }
   ],
   "source": [
    "df = pd.read_csv(\"hour.csv\", parse_dates=[\"dteday\"])\n",
    "df.head()"
   ]
  },
  {
   "cell_type": "code",
   "execution_count": 3,
   "metadata": {},
   "outputs": [
    {
     "name": "stdout",
     "output_type": "stream",
     "text": [
      "Requirement already up-to-date: scikit-learn in ./.local/lib/python3.8/site-packages (0.24.1)\n",
      "Requirement already satisfied, skipping upgrade: threadpoolctl>=2.0.0 in ./opt/anaconda3/lib/python3.8/site-packages (from scikit-learn) (2.1.0)\n",
      "Requirement already satisfied, skipping upgrade: joblib>=0.11 in ./opt/anaconda3/lib/python3.8/site-packages (from scikit-learn) (0.17.0)\n",
      "Requirement already satisfied, skipping upgrade: numpy>=1.13.3 in ./opt/anaconda3/lib/python3.8/site-packages (from scikit-learn) (1.19.2)\n",
      "Requirement already satisfied, skipping upgrade: scipy>=0.19.1 in ./opt/anaconda3/lib/python3.8/site-packages (from scikit-learn) (1.5.2)\n",
      "Note: you may need to restart the kernel to use updated packages.\n"
     ]
    }
   ],
   "source": [
    "pip install --user --upgrade scikit-learn"
   ]
  },
  {
   "cell_type": "code",
   "execution_count": 4,
   "metadata": {},
   "outputs": [
    {
     "name": "stdout",
     "output_type": "stream",
     "text": [
      "<class 'pandas.core.frame.DataFrame'>\n",
      "RangeIndex: 17379 entries, 0 to 17378\n",
      "Data columns (total 11 columns):\n",
      " #   Column      Non-Null Count  Dtype         \n",
      "---  ------      --------------  -----         \n",
      " 0   instant     17379 non-null  int64         \n",
      " 1   dteday      17379 non-null  datetime64[ns]\n",
      " 2   hr          17379 non-null  int64         \n",
      " 3   weathersit  17279 non-null  object        \n",
      " 4   temp        17280 non-null  float64       \n",
      " 5   atemp       17279 non-null  float64       \n",
      " 6   hum         17279 non-null  float64       \n",
      " 7   windspeed   17279 non-null  float64       \n",
      " 8   casual      17379 non-null  int64         \n",
      " 9   registered  17379 non-null  int64         \n",
      " 10  cnt         17379 non-null  int64         \n",
      "dtypes: datetime64[ns](1), float64(4), int64(5), object(1)\n",
      "memory usage: 1.5+ MB\n"
     ]
    }
   ],
   "source": [
    "df.info()"
   ]
  },
  {
   "cell_type": "code",
   "execution_count": 5,
   "metadata": {},
   "outputs": [],
   "source": [
    "#Dropping the columns we don't need from X, and defining the target variables Y\n",
    "X = df.drop(columns=[\"instant\", \"cnt\", \"casual\", \"registered\"])\n",
    "y = df[\"cnt\"]"
   ]
  },
  {
   "cell_type": "code",
   "execution_count": 6,
   "metadata": {},
   "outputs": [],
   "source": [
    "import numpy as np"
   ]
  },
  {
   "cell_type": "code",
   "execution_count": 7,
   "metadata": {},
   "outputs": [],
   "source": [
    "from sklearn.compose import ColumnTransformer, make_column_transformer, make_column_selector\n",
    "from sklearn.impute import SimpleImputer, KNNImputer\n",
    "from sklearn.pipeline import Pipeline, make_pipeline\n",
    "from sklearn.preprocessing import OrdinalEncoder, FunctionTransformer"
   ]
  },
  {
   "cell_type": "code",
   "execution_count": 8,
   "metadata": {},
   "outputs": [],
   "source": [
    "# This function defines a forward fill method to fill NAs\n",
    "def ffill_missing(ser):\n",
    "    return ser.fillna(method=\"ffill\")"
   ]
  },
  {
   "cell_type": "code",
   "execution_count": 9,
   "metadata": {},
   "outputs": [],
   "source": [
    "#Define the forward fill imputer\n",
    "ffiller = FunctionTransformer(ffill_missing)"
   ]
  },
  {
   "cell_type": "code",
   "execution_count": 10,
   "metadata": {},
   "outputs": [
    {
     "data": {
      "text/plain": [
       "Pipeline(steps=[('functiontransformer',\n",
       "                 FunctionTransformer(func=<function ffill_missing at 0x7fbbfc867e50>)),\n",
       "                ('ordinalencoder',\n",
       "                 OrdinalEncoder(handle_unknown='use_encoded_value',\n",
       "                                unknown_value=4))])"
      ]
     },
     "execution_count": 10,
     "metadata": {},
     "output_type": "execute_result"
    }
   ],
   "source": [
    "#Define the weathersit data encoder\n",
    "weather_enc = make_pipeline(\n",
    "    ffiller,\n",
    "    OrdinalEncoder(\n",
    "        handle_unknown=\"use_encoded_value\", unknown_value=X[\"weathersit\"].nunique()\n",
    "    ),\n",
    ")\n",
    "weather_enc"
   ]
  },
  {
   "cell_type": "code",
   "execution_count": 11,
   "metadata": {},
   "outputs": [
    {
     "data": {
      "text/plain": [
       "ColumnTransformer(transformers=[('functiontransformer',\n",
       "                                 FunctionTransformer(func=<function ffill_missing at 0x7fbbfc867e50>),\n",
       "                                 <sklearn.compose._column_transformer.make_column_selector object at 0x7fbbfc85bcd0>),\n",
       "                                ('pipeline',\n",
       "                                 Pipeline(steps=[('functiontransformer',\n",
       "                                                  FunctionTransformer(func=<function ffill_missing at 0x7fbbfc867e50>)),\n",
       "                                                 ('ordinalencoder',\n",
       "                                                  OrdinalEncoder(handle_unknown='use_encoded_value',\n",
       "                                                                 unknown_value=4))]),\n",
       "                                 ['weathersit'])])"
      ]
     },
     "execution_count": 11,
     "metadata": {},
     "output_type": "execute_result"
    }
   ],
   "source": [
    "ct = make_column_transformer(\n",
    "    (ffiller, make_column_selector(dtype_include=np.number)),\n",
    "    (weather_enc, [\"weathersit\"]),\n",
    ")\n",
    "ct"
   ]
  },
  {
   "cell_type": "code",
   "execution_count": 12,
   "metadata": {},
   "outputs": [],
   "source": [
    "from sklearn.pipeline import FeatureUnion, make_union"
   ]
  },
  {
   "cell_type": "code",
   "execution_count": 13,
   "metadata": {},
   "outputs": [],
   "source": [
    "#This function is used further ahead to consider binary feature of wether the day is weekday or weekend\n",
    "def is_weekend(data):\n",
    "    return (\n",
    "        data[\"dteday\"]\n",
    "        .dt.day_name()\n",
    "        .isin([\"Saturday\", \"Sunday\"])\n",
    "        .to_frame()\n",
    "    )"
   ]
  },
  {
   "cell_type": "code",
   "execution_count": 14,
   "metadata": {},
   "outputs": [],
   "source": [
    "#This function is used to tell how many years have elapsed since the beginning of operation (began in 2011)\n",
    "def year(data):\n",
    "    # Our reference year is 2011, the beginning of the training dataset\n",
    "    return (data[\"dteday\"].dt.year - 2011).to_frame()"
   ]
  },
  {
   "cell_type": "code",
   "execution_count": 15,
   "metadata": {
    "jupyter": {
     "source_hidden": true
    }
   },
   "outputs": [
    {
     "data": {
      "text/plain": [
       "FeatureUnion(transformer_list=[('is_weekend',\n",
       "                                FunctionTransformer(func=<function is_weekend at 0x7fbbfc86ad30>)),\n",
       "                               ('year',\n",
       "                                FunctionTransformer(func=<function year at 0x7fbbfc886040>)),\n",
       "                               ('column_transform',\n",
       "                                ColumnTransformer(transformers=[('functiontransformer',\n",
       "                                                                 FunctionTransformer(func=<function ffill_missing at 0x7fbbfc867e50>),\n",
       "                                                                 <sklearn.compose._column_transformer.make_column_selector object at 0x7fbbfc85bcd0>),\n",
       "                                                                ('pipeline',\n",
       "                                                                 Pipeline(steps=[('functiontransformer',\n",
       "                                                                                  FunctionTransformer(func=<function ffill_missing at 0x7fbbfc867e50>)),\n",
       "                                                                                 ('ordinalencoder',\n",
       "                                                                                  OrdinalEncoder(handle_unknown='use_encoded_value',\n",
       "                                                                                                 unknown_value=4))]),\n",
       "                                                                 ['weathersit'])]))])"
      ]
     },
     "execution_count": 15,
     "metadata": {},
     "output_type": "execute_result"
    }
   ],
   "source": [
    "preprocessing = FeatureUnion([\n",
    "    (\"is_weekend\", FunctionTransformer(is_weekend)),\n",
    "    (\"year\", FunctionTransformer(year)),\n",
    "    (\"column_transform\", ct)\n",
    "])\n",
    "preprocessing"
   ]
  },
  {
   "cell_type": "code",
   "execution_count": 16,
   "metadata": {},
   "outputs": [],
   "source": [
    "from sklearn.ensemble import RandomForestRegressor"
   ]
  },
  {
   "cell_type": "code",
   "execution_count": 17,
   "metadata": {},
   "outputs": [
    {
     "data": {
      "text/plain": [
       "Pipeline(steps=[('preprocessing',\n",
       "                 FeatureUnion(transformer_list=[('is_weekend',\n",
       "                                                 FunctionTransformer(func=<function is_weekend at 0x7fbbfc86ad30>)),\n",
       "                                                ('year',\n",
       "                                                 FunctionTransformer(func=<function year at 0x7fbbfc886040>)),\n",
       "                                                ('column_transform',\n",
       "                                                 ColumnTransformer(transformers=[('functiontransformer',\n",
       "                                                                                  FunctionTransformer(func=<function ffill_missing at 0x7fbbfc867e50>),\n",
       "                                                                                  <sklearn.compose._column_transformer.make_column_selector object at 0x7fbbfc85bcd0>),\n",
       "                                                                                 ('pipeline',\n",
       "                                                                                  Pipeline(steps=[('functiontransformer',\n",
       "                                                                                                   FunctionTransformer(func=<function ffill_missing at 0x7fbbfc867e50>)),\n",
       "                                                                                                  ('ordinalencoder',\n",
       "                                                                                                   OrdinalEncoder(handle_unknown='use_encoded_value',\n",
       "                                                                                                                  unknown_value=4))]),\n",
       "                                                                                  ['weathersit'])]))])),\n",
       "                ('model', RandomForestRegressor())])"
      ]
     },
     "execution_count": 17,
     "metadata": {},
     "output_type": "execute_result"
    }
   ],
   "source": [
    "reg = Pipeline([(\"preprocessing\", preprocessing), (\"model\", RandomForestRegressor())])\n",
    "reg"
   ]
  },
  {
   "cell_type": "code",
   "execution_count": 18,
   "metadata": {},
   "outputs": [],
   "source": [
    "X_train, y_train = X.loc[X[\"dteday\"] < \"2012-10\"], y.loc[X[\"dteday\"] < \"2012-10\"]\n",
    "X_test, y_test = X.loc[\"2012-10\" <= X[\"dteday\"]], y.loc[\"2012-10\" <= X[\"dteday\"]]"
   ]
  },
  {
   "cell_type": "code",
   "execution_count": 19,
   "metadata": {},
   "outputs": [
    {
     "data": {
      "text/plain": [
       "Pipeline(steps=[('preprocessing',\n",
       "                 FeatureUnion(transformer_list=[('is_weekend',\n",
       "                                                 FunctionTransformer(func=<function is_weekend at 0x7fbbfc86ad30>)),\n",
       "                                                ('year',\n",
       "                                                 FunctionTransformer(func=<function year at 0x7fbbfc886040>)),\n",
       "                                                ('column_transform',\n",
       "                                                 ColumnTransformer(transformers=[('functiontransformer',\n",
       "                                                                                  FunctionTransformer(func=<function ffill_missing at 0x7fbbfc867e50>),\n",
       "                                                                                  <sklearn.compose._column_transformer.make_column_selector object at 0x7fbbfc85bcd0>),\n",
       "                                                                                 ('pipeline',\n",
       "                                                                                  Pipeline(steps=[('functiontransformer',\n",
       "                                                                                                   FunctionTransformer(func=<function ffill_missing at 0x7fbbfc867e50>)),\n",
       "                                                                                                  ('ordinalencoder',\n",
       "                                                                                                   OrdinalEncoder(handle_unknown='use_encoded_value',\n",
       "                                                                                                                  unknown_value=4))]),\n",
       "                                                                                  ['weathersit'])]))])),\n",
       "                ('model', RandomForestRegressor())])"
      ]
     },
     "execution_count": 19,
     "metadata": {},
     "output_type": "execute_result"
    }
   ],
   "source": [
    "reg.fit(X_train, y_train)"
   ]
  },
  {
   "cell_type": "code",
   "execution_count": 20,
   "metadata": {},
   "outputs": [
    {
     "data": {
      "text/plain": [
       "['bikes.joblib']"
      ]
     },
     "execution_count": 20,
     "metadata": {},
     "output_type": "execute_result"
    }
   ],
   "source": [
    " #Dump the model\n",
    "    \n",
    "joblib.dump(reg, 'bikes.joblib')"
   ]
  },
  {
   "cell_type": "code",
   "execution_count": 21,
   "metadata": {},
   "outputs": [
    {
     "data": {
      "text/plain": [
       "0.8028155482164009"
      ]
     },
     "execution_count": 21,
     "metadata": {},
     "output_type": "execute_result"
    }
   ],
   "source": [
    "reg.score(X_test, y_test)"
   ]
  },
  {
   "cell_type": "code",
   "execution_count": 22,
   "metadata": {},
   "outputs": [],
   "source": [
    "y_pred = reg.predict(X_test)"
   ]
  },
  {
   "cell_type": "code",
   "execution_count": 23,
   "metadata": {},
   "outputs": [],
   "source": [
    "import matplotlib.pyplot as plt\n",
    "import seaborn as sns\n",
    "sns.set()"
   ]
  },
  {
   "cell_type": "code",
   "execution_count": 24,
   "metadata": {},
   "outputs": [],
   "source": [
    "%matplotlib inline"
   ]
  },
  {
   "cell_type": "code",
   "execution_count": 25,
   "metadata": {},
   "outputs": [
    {
     "data": {
      "text/plain": [
       "(15100.0, 15500.0)"
      ]
     },
     "execution_count": 25,
     "metadata": {},
     "output_type": "execute_result"
    },
    {
     "data": {
      "image/png": "[encoded data removed]",
      "text/plain": [
       "<Figure size 1080x360 with 1 Axes>"
      ]
     },
     "metadata": {
      "needs_background": "light"
     },
     "output_type": "display_data"
    }
   ],
   "source": [
    "fig, ax = plt.subplots(figsize=(15, 5))\n",
    "\n",
    "df.loc[df[\"dteday\"] < \"2012-10\"].set_index(\"instant\")[\"cnt\"].plot(ax=ax, label=\"Train\")\n",
    "df.loc[\"2012-10\" <= df[\"dteday\"]].set_index(\"instant\")[\"cnt\"].plot(ax=ax, label=\"Test\")\n",
    "\n",
    "pd.Series(y_pred, index=df.loc[\"2012-10\" <= df[\"dteday\"], \"instant\"]).plot(ax=ax, color=\"k\", label=\"Prediction\")\n",
    "\n",
    "ax.legend(loc=2, shadow=True, facecolor=\"0.97\")\n",
    "ax.set_xlim(15100, 15500)"
   ]
  },
  {
   "cell_type": "markdown",
   "metadata": {},
   "source": [
    "---"
   ]
  },
  {
   "cell_type": "code",
   "execution_count": 26,
   "metadata": {},
   "outputs": [
    {
     "data": {
      "text/html": [
       "<div>\n",
       "<style scoped>\n",
       "    .dataframe tbody tr th:only-of-type {\n",
       "        vertical-align: middle;\n",
       "    }\n",
       "\n",
       "    .dataframe tbody tr th {\n",
       "        vertical-align: top;\n",
       "    }\n",
       "\n",
       "    .dataframe thead th {\n",
       "        text-align: right;\n",
       "    }\n",
       "</style>\n",
       "<table border=\"1\" class=\"dataframe\">\n",
       "  <thead>\n",
       "    <tr style=\"text-align: right;\">\n",
       "      <th></th>\n",
       "      <th>dteday</th>\n",
       "      <th>hr</th>\n",
       "      <th>weathersit</th>\n",
       "      <th>temp</th>\n",
       "      <th>atemp</th>\n",
       "      <th>hum</th>\n",
       "      <th>windspeed</th>\n",
       "    </tr>\n",
       "  </thead>\n",
       "  <tbody>\n",
       "    <tr>\n",
       "      <th>0</th>\n",
       "      <td>2011-01-01</td>\n",
       "      <td>0</td>\n",
       "      <td>Clear, Few clouds, Partly cloudy, Partly cloudy</td>\n",
       "      <td>0.24</td>\n",
       "      <td>0.2879</td>\n",
       "      <td>0.81</td>\n",
       "      <td>0.0</td>\n",
       "    </tr>\n",
       "    <tr>\n",
       "      <th>1</th>\n",
       "      <td>2011-01-01</td>\n",
       "      <td>1</td>\n",
       "      <td>Clear, Few clouds, Partly cloudy, Partly cloudy</td>\n",
       "      <td>0.22</td>\n",
       "      <td>0.2727</td>\n",
       "      <td>0.80</td>\n",
       "      <td>0.0</td>\n",
       "    </tr>\n",
       "    <tr>\n",
       "      <th>2</th>\n",
       "      <td>2011-01-01</td>\n",
       "      <td>2</td>\n",
       "      <td>Clear, Few clouds, Partly cloudy, Partly cloudy</td>\n",
       "      <td>0.22</td>\n",
       "      <td>0.2727</td>\n",
       "      <td>0.80</td>\n",
       "      <td>0.0</td>\n",
       "    </tr>\n",
       "    <tr>\n",
       "      <th>3</th>\n",
       "      <td>2011-01-01</td>\n",
       "      <td>3</td>\n",
       "      <td>Clear, Few clouds, Partly cloudy, Partly cloudy</td>\n",
       "      <td>0.24</td>\n",
       "      <td>0.2879</td>\n",
       "      <td>0.75</td>\n",
       "      <td>0.0</td>\n",
       "    </tr>\n",
       "    <tr>\n",
       "      <th>4</th>\n",
       "      <td>2011-01-01</td>\n",
       "      <td>4</td>\n",
       "      <td>Clear, Few clouds, Partly cloudy, Partly cloudy</td>\n",
       "      <td>0.24</td>\n",
       "      <td>0.2879</td>\n",
       "      <td>0.75</td>\n",
       "      <td>0.0</td>\n",
       "    </tr>\n",
       "  </tbody>\n",
       "</table>\n",
       "</div>"
      ],
      "text/plain": [
       "      dteday  hr                                       weathersit  temp  \\\n",
       "0 2011-01-01   0  Clear, Few clouds, Partly cloudy, Partly cloudy  0.24   \n",
       "1 2011-01-01   1  Clear, Few clouds, Partly cloudy, Partly cloudy  0.22   \n",
       "2 2011-01-01   2  Clear, Few clouds, Partly cloudy, Partly cloudy  0.22   \n",
       "3 2011-01-01   3  Clear, Few clouds, Partly cloudy, Partly cloudy  0.24   \n",
       "4 2011-01-01   4  Clear, Few clouds, Partly cloudy, Partly cloudy  0.24   \n",
       "\n",
       "    atemp   hum  windspeed  \n",
       "0  0.2879  0.81        0.0  \n",
       "1  0.2727  0.80        0.0  \n",
       "2  0.2727  0.80        0.0  \n",
       "3  0.2879  0.75        0.0  \n",
       "4  0.2879  0.75        0.0  "
      ]
     },
     "execution_count": 26,
     "metadata": {},
     "output_type": "execute_result"
    }
   ],
   "source": [
    "X_train.head()"
   ]
  },
  {
   "cell_type": "code",
   "execution_count": 27,
   "metadata": {},
   "outputs": [
    {
     "data": {
      "text/plain": [
       "array([104.81])"
      ]
     },
     "execution_count": 27,
     "metadata": {},
     "output_type": "execute_result"
    }
   ],
   "source": [
    "reg.predict(pd.DataFrame([[\n",
    "    pd.to_datetime(\"2012-11-01\"),\n",
    "    10,\n",
    "    \"Clear, Few clouds, Partly cloudy, Partly cloudy\",\n",
    "    0.3,\n",
    "    0.31,\n",
    "    0.8,\n",
    "    0.0,\n",
    "]], columns=[\n",
    "    'dteday',\n",
    "    'hr',\n",
    "    'weathersit',\n",
    "    'temp',\n",
    "    'atemp',\n",
    "    'hum',\n",
    "    'windspeed'\n",
    "]))"
   ]
  }
 ],
 "metadata": {
  "kernelspec": {
   "display_name": "Python 3",
   "language": "python",
   "name": "python3"
  },
  "language_info": {
   "codemirror_mode": {
    "name": "ipython",
    "version": 3
   },
   "file_extension": ".py",
   "mimetype": "text/x-python",
   "name": "python",
   "nbconvert_exporter": "python",
   "pygments_lexer": "ipython3",
   "version": "3.8.5"
  }
 },
 "nbformat": 4,
 "nbformat_minor": 5
}
